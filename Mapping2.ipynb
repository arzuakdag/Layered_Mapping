{
 "cells": [
  {
   "cell_type": "code",
   "execution_count": 43,
   "metadata": {},
   "outputs": [],
   "source": [
    "import folium\n",
    "import pandas\n",
    "\n",
    "# Read infomration in Volcanoes file \n",
    "data = pandas.read_csv(r\"C:\\Users\\strea\\Python_ex\\Mapping\\app2-web-map\\Volcanoes.txt\")\n",
    "\n",
    "# Create latitude and longitude lists \n",
    "lat = list(data[\"LAT\"])\n",
    "lon = list(data[\"LON\"])\n",
    "elev = list (data[\"ELEV\"])\n",
    "\n",
    "# Function for different elevation groups for dynamic coloring\n",
    "def color_producer(elevation):\n",
    "    if elevation < 1000:\n",
    "        return 'green'\n",
    "    elif 1000<=elevation < 3000: \n",
    "        return 'blue'\n",
    "    else: \n",
    "        return 'red' \n",
    "\n",
    "# Passing list of coordinates, adding points to base map - see tiles\n",
    "map = folium.Map(location=[38.58,-99.09], zoom_start=6, tiles = \"Stamen Terrain\")\n",
    "\n",
    "# Create feature group for volcanoes for cleaner passing \n",
    "fgv = folium.FeatureGroup(name=\"Volcanoes\")\n",
    "# Add elements/objects (Marker)\n",
    "\n",
    "# For loop to add multiple markers with markers being items in list matching lat and lon coordinates for each location \n",
    "for lt, ln, el in zip(lat, lon, elev): \n",
    "    # Make popups dynamic by adding elevation values from Volcanoes file \n",
    "    fgv.add_child(folium.CircleMarker(location=[lt, ln], radius=6, popup=str(el)+\" m\", \n",
    "    fill_color=color_producer(el),color='grey', fill_opacity=0.7))\n",
    "    \n",
    "# Add feature group for population enabling seconary button in layering control \n",
    "fgp = folium.FeatureGroup(name=\"Population\")\n",
    "\n",
    "# GeoJson is special formatting, adding polygons outlining countries via open method \n",
    "fgp.add_child(folium.GeoJson(data=open(r\"C:\\Users\\strea\\Python_ex\\Mapping\\app2-web-map\\world.json\", 'r', encoding='utf-8-sig').read()\n",
    "                            # Apply coloring based on population density pulled from json file \n",
    "                            , style_function=lambda x: {'fillColor':'green' if x['properties']['POP2005']< 1000000 \n",
    "                            else 'orange' if 10000000 <= x['properties']['POP2005']<20000000 else 'red'}))\n",
    "\n",
    "map.add_child(fgv)\n",
    "map.add_child(fgp)\n",
    "\n",
    "# Adding layering control buttons - currently NOT working \n",
    "map.add_child(folium.LayerControl())\n",
    "\n",
    "\n",
    "# Save with location file:///C:/Windows/System32/Map1.html\n",
    "map.save(\"Map1.html\")\n"
   ]
  },
  {
   "cell_type": "code",
   "execution_count": null,
   "metadata": {},
   "outputs": [],
   "source": []
  }
 ],
 "metadata": {
  "kernelspec": {
   "display_name": "Python 3",
   "language": "python",
   "name": "python3"
  },
  "language_info": {
   "codemirror_mode": {
    "name": "ipython",
    "version": 3
   },
   "file_extension": ".py",
   "mimetype": "text/x-python",
   "name": "python",
   "nbconvert_exporter": "python",
   "pygments_lexer": "ipython3",
   "version": "3.7.3"
  }
 },
 "nbformat": 4,
 "nbformat_minor": 2
}
